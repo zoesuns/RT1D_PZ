{
 "cells": [
  {
   "cell_type": "code",
   "execution_count": 1,
   "id": "1cc7b1da",
   "metadata": {},
   "outputs": [],
   "source": [
    "import numpy as np\n",
    "import matplotlib.pyplot as plt\n",
    "import pandas as pd\n",
    "\n",
    "from scipy.integrate import quad\n"
   ]
  },
  {
   "cell_type": "markdown",
   "id": "2af8eeda",
   "metadata": {},
   "source": [
    "### Template fitting to convert M1450 -> ionizing Ndot\n",
    "\n",
    "https://ui.adsabs.harvard.edu/abs/2012MNRAS.427.1800R/abstract\n",
    "\n",
    "https://ui.adsabs.harvard.edu/abs/2012MNRAS.422..478R/abstract\n",
    "\n",
    "<!-- https://ui.adsabs.harvard.edu/abs/2012MNRAS.426.2677R/abstract -->\n",
    "https://ui.adsabs.harvard.edu/abs/2015MNRAS.449.4204L/abstract"
   ]
  },
  {
   "cell_type": "code",
   "execution_count": 8,
   "id": "c66a8ce7",
   "metadata": {},
   "outputs": [],
   "source": [
    "f_nu=lambda mAB: 10**(-(mAB+48.6)/2.5)\n",
    "pc2cm=3.086e+18\n",
    "MagAB_to_Lnu=lambda MagAB: 4*np.pi*(10*pc2cm)**2*f_nu(MagAB) # in unit erg s^-1 Hz^-1\n",
    "c=2.99792458e10\n",
    "nuHz_to_lambdaAA=lambda nuHz:1e8*c/nuHz\n",
    "lambdaAA_to_nuHz=lambda lambdaAA: c/(1e-8*lambdaAA)\n",
    "\n",
    "nu1450=lambdaAA_to_nuHz(1450)\n",
    "MagAB_to_nuLnu=lambda MagAB:nu1450*MagAB_to_Lnu(MagAB)\n",
    "MagAB_to_Liso =lambda MagAB:10**(4.74+0.91*np.log10(MagAB_to_nuLnu(MagAB))) # Eq (9) of Russo+12"
   ]
  },
  {
   "cell_type": "code",
   "execution_count": 19,
   "id": "57d40a7e",
   "metadata": {},
   "outputs": [
    {
     "data": {
      "text/plain": [
       "3287198004385964.5"
      ]
     },
     "execution_count": 19,
     "metadata": {},
     "output_type": "execute_result"
    }
   ],
   "source": [
    "lambdaAA_to_nuHz(912)/1e15"
   ]
  },
  {
   "cell_type": "code",
   "execution_count": 10,
   "id": "ebe53159",
   "metadata": {},
   "outputs": [],
   "source": [
    "nu912=lambdaAA_to_nuHz(912)\n",
    "nu_lo=lambdaAA_to_nuHz(10000) #1 mu m\n",
    "nu_hi=lambdaAA_to_nuHz(1.5) # 8 keV\n",
    "\n",
    "def Lum_nu_spec(nu, L_at_nu0, nu0, alpha_nu):\n",
    "    return L_at_nu0*(nu/nu0)**alpha_nu\n",
    "\n",
    "def calc_Lbol(L_nu_at912,alpha_nu_red,alpha_nu_blue):\n",
    "    red=quad(Lum_nu_spec,nu_lo,lambdaAA_to_nuHz(912),args=(L_nu_at912,lambdaAA_to_nuHz(912),alpha_nu_red))[0]\n",
    "    blue=quad(Lum_nu_spec,lambdaAA_to_nuHz(912),nu_hi,args=(L_nu_at912,lambdaAA_to_nuHz(912),alpha_nu_blue))[0]\n",
    "    return red+blue\n",
    "\n",
    "hplanck=6.62607015e-27\n",
    "def Ndot_nu_spec(nu, L_at_nu0, nu0, alpha_nu):\n",
    "    return Lum_nu_spec(nu, L_at_nu0, nu0, alpha_nu)/hplanck/nu\n",
    "\n",
    "def Ndot_tot(Lnu_at_HIedge,alpha_nu):\n",
    "#     print(lambdaAA_to_nuHz(912),lambdaAA_to_nuHz(12))\n",
    "#     print(quad(Ndot_nu_spec,lambdaAA_to_nuHz(912),lambdaAA_to_nuHz(0.912),args=(Lnu_at_HIedge,lambdaAA_to_nuHz(912),alpha_nu)))\n",
    "    return quad(Ndot_nu_spec,lambdaAA_to_nuHz(912),lambdaAA_to_nuHz(0.912),args=(Lnu_at_HIedge,lambdaAA_to_nuHz(912),alpha_nu))[0]\n"
   ]
  },
  {
   "cell_type": "code",
   "execution_count": 11,
   "id": "06ac3d1e",
   "metadata": {},
   "outputs": [],
   "source": [
    "def M1450_to_Ntot(M1450,method=\"Runnoe12+Lusso15\"):\n",
    "    if method==\"Runnoe12+Lusso15\":\n",
    "        alpha_nu_red=-0.61\n",
    "        alpha_nu_blue=-1.7\n",
    "        L_nu_at912=MagAB_to_Liso(M1450)/calc_Lbol(1,alpha_nu_red,alpha_nu_blue)\n",
    "        return Ndot_tot(L_nu_at912,alpha_nu_blue)"
   ]
  },
  {
   "cell_type": "code",
   "execution_count": 5,
   "id": "634d259a",
   "metadata": {},
   "outputs": [],
   "source": [
    "qso={'Name':[\"J062-01\",\"J0020-3653\",\"J0244-5008\",\"J0252-0503\",\"J0411-0907\",\"J1104+2134\"],\n",
    "    'redshift':[6.99,6.8540,6.7240,7.0006,6.8190,6.7662],\n",
    "    'M1450':[-28.12,-26.94,-26.72,-26.63,-26.61,-26.67],\n",
    "    }"
   ]
  },
  {
   "cell_type": "code",
   "execution_count": 6,
   "id": "9f5db20e",
   "metadata": {},
   "outputs": [],
   "source": [
    "qso[\"Ndot\"]=[M1450_to_Ntot(M) for M in qso[\"M1450\"]]"
   ]
  },
  {
   "cell_type": "code",
   "execution_count": 7,
   "id": "1dd878e1",
   "metadata": {},
   "outputs": [],
   "source": [
    "df=pd.DataFrame(qso)\n"
   ]
  },
  {
   "cell_type": "code",
   "execution_count": null,
   "id": "3a389085",
   "metadata": {},
   "outputs": [],
   "source": []
  },
  {
   "cell_type": "code",
   "execution_count": 8,
   "id": "dd5b4a4a",
   "metadata": {},
   "outputs": [
    {
     "data": {
      "text/html": [
       "<div>\n",
       "<style scoped>\n",
       "    .dataframe tbody tr th:only-of-type {\n",
       "        vertical-align: middle;\n",
       "    }\n",
       "\n",
       "    .dataframe tbody tr th {\n",
       "        vertical-align: top;\n",
       "    }\n",
       "\n",
       "    .dataframe thead th {\n",
       "        text-align: right;\n",
       "    }\n",
       "</style>\n",
       "<table border=\"1\" class=\"dataframe\">\n",
       "  <thead>\n",
       "    <tr style=\"text-align: right;\">\n",
       "      <th></th>\n",
       "      <th>Name</th>\n",
       "      <th>redshift</th>\n",
       "      <th>M1450</th>\n",
       "      <th>Ndot</th>\n",
       "    </tr>\n",
       "  </thead>\n",
       "  <tbody>\n",
       "    <tr>\n",
       "      <th>0</th>\n",
       "      <td>J062-01</td>\n",
       "      <td>6.9900</td>\n",
       "      <td>-28.12</td>\n",
       "      <td>4.489466e+57</td>\n",
       "    </tr>\n",
       "    <tr>\n",
       "      <th>1</th>\n",
       "      <td>J0020-3653</td>\n",
       "      <td>6.8540</td>\n",
       "      <td>-26.94</td>\n",
       "      <td>1.669839e+57</td>\n",
       "    </tr>\n",
       "    <tr>\n",
       "      <th>2</th>\n",
       "      <td>J0244-5008</td>\n",
       "      <td>6.7240</td>\n",
       "      <td>-26.72</td>\n",
       "      <td>1.388656e+57</td>\n",
       "    </tr>\n",
       "    <tr>\n",
       "      <th>3</th>\n",
       "      <td>J0252-0503</td>\n",
       "      <td>7.0006</td>\n",
       "      <td>-26.63</td>\n",
       "      <td>1.287759e+57</td>\n",
       "    </tr>\n",
       "    <tr>\n",
       "      <th>4</th>\n",
       "      <td>J0411-0907</td>\n",
       "      <td>6.8190</td>\n",
       "      <td>-26.61</td>\n",
       "      <td>1.266353e+57</td>\n",
       "    </tr>\n",
       "    <tr>\n",
       "      <th>5</th>\n",
       "      <td>J1104+2134</td>\n",
       "      <td>6.7662</td>\n",
       "      <td>-26.67</td>\n",
       "      <td>1.331664e+57</td>\n",
       "    </tr>\n",
       "  </tbody>\n",
       "</table>\n",
       "</div>"
      ],
      "text/plain": [
       "         Name  redshift  M1450          Ndot\n",
       "0     J062-01    6.9900 -28.12  4.489466e+57\n",
       "1  J0020-3653    6.8540 -26.94  1.669839e+57\n",
       "2  J0244-5008    6.7240 -26.72  1.388656e+57\n",
       "3  J0252-0503    7.0006 -26.63  1.287759e+57\n",
       "4  J0411-0907    6.8190 -26.61  1.266353e+57\n",
       "5  J1104+2134    6.7662 -26.67  1.331664e+57"
      ]
     },
     "execution_count": 8,
     "metadata": {},
     "output_type": "execute_result"
    }
   ],
   "source": [
    "df"
   ]
  },
  {
   "cell_type": "code",
   "execution_count": 19,
   "id": "8a119f47",
   "metadata": {},
   "outputs": [],
   "source": [
    "# df.to_csv(\"qso.csv\")"
   ]
  },
  {
   "cell_type": "code",
   "execution_count": 20,
   "id": "da772706",
   "metadata": {},
   "outputs": [
    {
     "data": {
      "text/html": [
       "<div>\n",
       "<style scoped>\n",
       "    .dataframe tbody tr th:only-of-type {\n",
       "        vertical-align: middle;\n",
       "    }\n",
       "\n",
       "    .dataframe tbody tr th {\n",
       "        vertical-align: top;\n",
       "    }\n",
       "\n",
       "    .dataframe thead th {\n",
       "        text-align: right;\n",
       "    }\n",
       "</style>\n",
       "<table border=\"1\" class=\"dataframe\">\n",
       "  <thead>\n",
       "    <tr style=\"text-align: right;\">\n",
       "      <th></th>\n",
       "      <th>Name</th>\n",
       "      <th>redshift</th>\n",
       "      <th>M1450</th>\n",
       "      <th>Ndot</th>\n",
       "    </tr>\n",
       "  </thead>\n",
       "  <tbody>\n",
       "    <tr>\n",
       "      <th>0</th>\n",
       "      <td>J062-01</td>\n",
       "      <td>6.9900</td>\n",
       "      <td>-28.12</td>\n",
       "      <td>4.489466e+57</td>\n",
       "    </tr>\n",
       "    <tr>\n",
       "      <th>1</th>\n",
       "      <td>J0020-3653</td>\n",
       "      <td>6.8540</td>\n",
       "      <td>-26.94</td>\n",
       "      <td>1.669839e+57</td>\n",
       "    </tr>\n",
       "    <tr>\n",
       "      <th>2</th>\n",
       "      <td>J0244-5008</td>\n",
       "      <td>6.7240</td>\n",
       "      <td>-26.72</td>\n",
       "      <td>1.388656e+57</td>\n",
       "    </tr>\n",
       "    <tr>\n",
       "      <th>3</th>\n",
       "      <td>J0252-0503</td>\n",
       "      <td>7.0006</td>\n",
       "      <td>-26.63</td>\n",
       "      <td>1.287759e+57</td>\n",
       "    </tr>\n",
       "    <tr>\n",
       "      <th>4</th>\n",
       "      <td>J0411-0907</td>\n",
       "      <td>6.8190</td>\n",
       "      <td>-26.61</td>\n",
       "      <td>1.266353e+57</td>\n",
       "    </tr>\n",
       "    <tr>\n",
       "      <th>5</th>\n",
       "      <td>J1104+2134</td>\n",
       "      <td>6.7662</td>\n",
       "      <td>-26.67</td>\n",
       "      <td>1.331664e+57</td>\n",
       "    </tr>\n",
       "  </tbody>\n",
       "</table>\n",
       "</div>"
      ],
      "text/plain": [
       "         Name  redshift  M1450          Ndot\n",
       "0     J062-01    6.9900 -28.12  4.489466e+57\n",
       "1  J0020-3653    6.8540 -26.94  1.669839e+57\n",
       "2  J0244-5008    6.7240 -26.72  1.388656e+57\n",
       "3  J0252-0503    7.0006 -26.63  1.287759e+57\n",
       "4  J0411-0907    6.8190 -26.61  1.266353e+57\n",
       "5  J1104+2134    6.7662 -26.67  1.331664e+57"
      ]
     },
     "execution_count": 20,
     "metadata": {},
     "output_type": "execute_result"
    }
   ],
   "source": [
    "df"
   ]
  },
  {
   "cell_type": "code",
   "execution_count": 5,
   "id": "035d35ff",
   "metadata": {},
   "outputs": [],
   "source": [
    "qso={'Name':[\"J036+03\"],\n",
    "    'redshift':[6.5412],\n",
    "    'M1450':[-27.36],\n",
    "    }"
   ]
  },
  {
   "cell_type": "code",
   "execution_count": 6,
   "id": "f1857d37",
   "metadata": {},
   "outputs": [],
   "source": [
    "qso[\"Ndot\"]=[M1450_to_Ntot(M) for M in qso[\"M1450\"]]"
   ]
  },
  {
   "cell_type": "code",
   "execution_count": 7,
   "id": "70ebc102",
   "metadata": {},
   "outputs": [],
   "source": [
    "df=pd.DataFrame(qso)\n"
   ]
  },
  {
   "cell_type": "code",
   "execution_count": 8,
   "id": "43042fd1",
   "metadata": {},
   "outputs": [],
   "source": [
    "df.to_csv(\"qso_z65.csv\")"
   ]
  },
  {
   "cell_type": "code",
   "execution_count": 9,
   "id": "1f8620a5",
   "metadata": {},
   "outputs": [
    {
     "data": {
      "text/html": [
       "<div>\n",
       "<style scoped>\n",
       "    .dataframe tbody tr th:only-of-type {\n",
       "        vertical-align: middle;\n",
       "    }\n",
       "\n",
       "    .dataframe tbody tr th {\n",
       "        vertical-align: top;\n",
       "    }\n",
       "\n",
       "    .dataframe thead th {\n",
       "        text-align: right;\n",
       "    }\n",
       "</style>\n",
       "<table border=\"1\" class=\"dataframe\">\n",
       "  <thead>\n",
       "    <tr style=\"text-align: right;\">\n",
       "      <th></th>\n",
       "      <th>Name</th>\n",
       "      <th>redshift</th>\n",
       "      <th>M1450</th>\n",
       "      <th>Ndot</th>\n",
       "    </tr>\n",
       "  </thead>\n",
       "  <tbody>\n",
       "    <tr>\n",
       "      <th>0</th>\n",
       "      <td>J036+03</td>\n",
       "      <td>6.5412</td>\n",
       "      <td>-27.36</td>\n",
       "      <td>2.374404e+57</td>\n",
       "    </tr>\n",
       "  </tbody>\n",
       "</table>\n",
       "</div>"
      ],
      "text/plain": [
       "      Name  redshift  M1450          Ndot\n",
       "0  J036+03    6.5412 -27.36  2.374404e+57"
      ]
     },
     "execution_count": 9,
     "metadata": {},
     "output_type": "execute_result"
    }
   ],
   "source": [
    "df"
   ]
  },
  {
   "cell_type": "code",
   "execution_count": 13,
   "id": "9db927e1",
   "metadata": {},
   "outputs": [],
   "source": [
    "qso={'Name':[\"J158-14\",\"J1306+0356\",\"J1319+0950\",\"J1428-1602\",\"J1509-1749\"],\n",
    "    'redshift':[6.0681,6.0330,6.1347,6.1498,6.1225],\n",
    "    'M1450':[-27.32,-26.76,-26.99,-26.89,-27.09],\n",
    "    }"
   ]
  },
  {
   "cell_type": "code",
   "execution_count": 14,
   "id": "6b8b55e5",
   "metadata": {},
   "outputs": [],
   "source": [
    "qso[\"Ndot\"]=[M1450_to_Ntot(M) for M in qso[\"M1450\"]]"
   ]
  },
  {
   "cell_type": "code",
   "execution_count": 15,
   "id": "40ae4b79",
   "metadata": {},
   "outputs": [
    {
     "data": {
      "text/html": [
       "<div>\n",
       "<style scoped>\n",
       "    .dataframe tbody tr th:only-of-type {\n",
       "        vertical-align: middle;\n",
       "    }\n",
       "\n",
       "    .dataframe tbody tr th {\n",
       "        vertical-align: top;\n",
       "    }\n",
       "\n",
       "    .dataframe thead th {\n",
       "        text-align: right;\n",
       "    }\n",
       "</style>\n",
       "<table border=\"1\" class=\"dataframe\">\n",
       "  <thead>\n",
       "    <tr style=\"text-align: right;\">\n",
       "      <th></th>\n",
       "      <th>Name</th>\n",
       "      <th>redshift</th>\n",
       "      <th>M1450</th>\n",
       "      <th>Ndot</th>\n",
       "    </tr>\n",
       "  </thead>\n",
       "  <tbody>\n",
       "    <tr>\n",
       "      <th>0</th>\n",
       "      <td>J158-14</td>\n",
       "      <td>6.0681</td>\n",
       "      <td>-27.32</td>\n",
       "      <td>2.296120e+57</td>\n",
       "    </tr>\n",
       "    <tr>\n",
       "      <th>1</th>\n",
       "      <td>J1306+0356</td>\n",
       "      <td>6.0330</td>\n",
       "      <td>-26.76</td>\n",
       "      <td>1.436001e+57</td>\n",
       "    </tr>\n",
       "    <tr>\n",
       "      <th>2</th>\n",
       "      <td>J1319+0950</td>\n",
       "      <td>6.1347</td>\n",
       "      <td>-26.99</td>\n",
       "      <td>1.741304e+57</td>\n",
       "    </tr>\n",
       "    <tr>\n",
       "      <th>3</th>\n",
       "      <td>J1428-1602</td>\n",
       "      <td>6.1498</td>\n",
       "      <td>-26.89</td>\n",
       "      <td>1.601307e+57</td>\n",
       "    </tr>\n",
       "    <tr>\n",
       "      <th>4</th>\n",
       "      <td>J1509-1749</td>\n",
       "      <td>6.1225</td>\n",
       "      <td>-27.09</td>\n",
       "      <td>1.893541e+57</td>\n",
       "    </tr>\n",
       "  </tbody>\n",
       "</table>\n",
       "</div>"
      ],
      "text/plain": [
       "         Name  redshift  M1450          Ndot\n",
       "0     J158-14    6.0681 -27.32  2.296120e+57\n",
       "1  J1306+0356    6.0330 -26.76  1.436001e+57\n",
       "2  J1319+0950    6.1347 -26.99  1.741304e+57\n",
       "3  J1428-1602    6.1498 -26.89  1.601307e+57\n",
       "4  J1509-1749    6.1225 -27.09  1.893541e+57"
      ]
     },
     "execution_count": 15,
     "metadata": {},
     "output_type": "execute_result"
    }
   ],
   "source": [
    "df=pd.DataFrame(qso)\n",
    "df"
   ]
  },
  {
   "cell_type": "code",
   "execution_count": 16,
   "id": "dc2b6b1f",
   "metadata": {},
   "outputs": [],
   "source": [
    "df.to_csv(\"qso_z6.csv\")"
   ]
  },
  {
   "cell_type": "code",
   "execution_count": 17,
   "id": "87c0851a",
   "metadata": {},
   "outputs": [],
   "source": [
    "L_nu_at912=MagAB_to_Liso(-26.99)/calc_Lbol(1,-0.61,-1.7)"
   ]
  },
  {
   "cell_type": "code",
   "execution_count": null,
   "id": "39d8a6c8",
   "metadata": {},
   "outputs": [],
   "source": []
  },
  {
   "cell_type": "code",
   "execution_count": 5,
   "id": "44362995",
   "metadata": {},
   "outputs": [
    {
     "ename": "SyntaxError",
     "evalue": "leading zeros in decimal integer literals are not permitted; use an 0o prefix for octal integers (2054912305.py, line 1)",
     "output_type": "error",
     "traceback": [
      "\u001b[0;36m  Input \u001b[0;32mIn [5]\u001b[0;36m\u001b[0m\n\u001b[0;31m    J062-01 6.99 -28.12\u001b[0m\n\u001b[0m          ^\u001b[0m\n\u001b[0;31mSyntaxError\u001b[0m\u001b[0;31m:\u001b[0m leading zeros in decimal integer literals are not permitted; use an 0o prefix for octal integers\n"
     ]
    }
   ],
   "source": [
    "J062-01 6.99 -28.12\n",
    "J0020-3653 6.8540 -26.94\n",
    "J0244-5008 6.7240 -26.72\n",
    "J0252-0503 7.0006 -26.63\n",
    "J0411-0907 6.8190 -26.61\n",
    "J1104+2134 6.7662 -26.67"
   ]
  },
  {
   "cell_type": "code",
   "execution_count": null,
   "id": "526006b6",
   "metadata": {},
   "outputs": [],
   "source": []
  },
  {
   "cell_type": "code",
   "execution_count": null,
   "id": "abe2273f",
   "metadata": {},
   "outputs": [],
   "source": []
  },
  {
   "cell_type": "code",
   "execution_count": null,
   "id": "70336471",
   "metadata": {},
   "outputs": [],
   "source": []
  },
  {
   "cell_type": "code",
   "execution_count": 11,
   "id": "df4add7d",
   "metadata": {},
   "outputs": [],
   "source": []
  },
  {
   "cell_type": "code",
   "execution_count": null,
   "id": "b9b852c3",
   "metadata": {},
   "outputs": [],
   "source": [
    "M1450_to_Ntot(-26.63)"
   ]
  },
  {
   "cell_type": "code",
   "execution_count": 7,
   "id": "0394a66c",
   "metadata": {},
   "outputs": [
    {
     "data": {
      "text/plain": [
       "1.3886559009276376e+57"
      ]
     },
     "execution_count": 7,
     "metadata": {},
     "output_type": "execute_result"
    }
   ],
   "source": [
    "M1450_to_Ntot(-26.72)"
   ]
  },
  {
   "cell_type": "code",
   "execution_count": 6,
   "id": "20179419",
   "metadata": {},
   "outputs": [
    {
     "data": {
      "text/plain": [
       "1.2877591487983607e+57"
      ]
     },
     "execution_count": 6,
     "metadata": {},
     "output_type": "execute_result"
    }
   ],
   "source": [
    "M1450_to_Ntot(-26.63)"
   ]
  },
  {
   "cell_type": "code",
   "execution_count": 7,
   "id": "5b9d0b84",
   "metadata": {},
   "outputs": [
    {
     "data": {
      "text/plain": [
       "4.4894655565944904e+57"
      ]
     },
     "execution_count": 7,
     "metadata": {},
     "output_type": "execute_result"
    }
   ],
   "source": [
    "M1450_to_Ntot(-28.12)"
   ]
  },
  {
   "cell_type": "code",
   "execution_count": 5,
   "id": "b3a27c9e",
   "metadata": {},
   "outputs": [],
   "source": [
    "M1450=-26.4\n",
    "alpha_nu_red=-0.61\n",
    "alpha_nu_blue=-1.7\n",
    "L_nu_at912=MagAB_to_Liso(M1450)/calc_Lbol(1,alpha_nu_red,alpha_nu_blue)"
   ]
  },
  {
   "cell_type": "code",
   "execution_count": 6,
   "id": "f6941629",
   "metadata": {},
   "outputs": [
    {
     "data": {
      "text/plain": [
       "[]"
      ]
     },
     "execution_count": 6,
     "metadata": {},
     "output_type": "execute_result"
    },
    {
     "data": {
      "image/png": "[encoded data removed]",
      "text/plain": [
       "<Figure size 432x288 with 1 Axes>"
      ]
     },
     "metadata": {
      "needs_background": "light"
     },
     "output_type": "display_data"
    }
   ],
   "source": [
    "nuArr=np.logspace(np.log10(nu912),np.log10(nu_hi),100)\n",
    "plt.plot(nuArr,Ndot_nu_spec(nuArr,L_nu_at912,nu912,alpha_nu_blue))\n",
    "plt.xlabel(r\"$\\nu \\rm [Hz]$\")\n",
    "plt.ylabel(r\"$\\dot{N} \\rm [s^{-1}Hz^{-1}]$\")\n",
    "plt.loglog()"
   ]
  },
  {
   "cell_type": "code",
   "execution_count": null,
   "id": "0420464d",
   "metadata": {},
   "outputs": [],
   "source": []
  },
  {
   "cell_type": "code",
   "execution_count": 16,
   "id": "b0de08a0",
   "metadata": {},
   "outputs": [
    {
     "data": {
      "text/plain": [
       "1.2349081134276853e+57"
      ]
     },
     "execution_count": 16,
     "metadata": {},
     "output_type": "execute_result"
    }
   ],
   "source": [
    "M1450_to_Ntot(-26.58)"
   ]
  },
  {
   "cell_type": "code",
   "execution_count": null,
   "id": "96f47783",
   "metadata": {},
   "outputs": [],
   "source": []
  },
  {
   "cell_type": "code",
   "execution_count": 7,
   "id": "3ea1624a",
   "metadata": {},
   "outputs": [],
   "source": [
    "h=4.1e-15 #eV s"
   ]
  },
  {
   "cell_type": "code",
   "execution_count": null,
   "id": "ec4329ce",
   "metadata": {},
   "outputs": [],
   "source": []
  },
  {
   "cell_type": "code",
   "execution_count": 8,
   "id": "a51493de",
   "metadata": {},
   "outputs": [],
   "source": [
    "xsec=lambda nu:6.3e-18*1.34*(nu/nu912)**-2.99"
   ]
  },
  {
   "cell_type": "code",
   "execution_count": 9,
   "id": "abbeba89",
   "metadata": {},
   "outputs": [],
   "source": [
    "def intg(nu, L_at_nu0, nu0, alpha_nu,r):\n",
    "    \"\"\"\n",
    "    r should be in [cm]\n",
    "    \"\"\"\n",
    "    return Ndot_nu_spec(nu, L_at_nu0, nu0, alpha_nu)/4./np.pi/r/r*xsec(nu)\n",
    "    "
   ]
  },
  {
   "cell_type": "code",
   "execution_count": 10,
   "id": "856ca6ad",
   "metadata": {},
   "outputs": [
    {
     "data": {
      "text/plain": [
       "[]"
      ]
     },
     "execution_count": 10,
     "metadata": {},
     "output_type": "execute_result"
    },
    {
     "data": {
      "image/png": "[encoded data removed]",
      "text/plain": [
       "<Figure size 432x288 with 1 Axes>"
      ]
     },
     "metadata": {
      "needs_background": "light"
     },
     "output_type": "display_data"
    }
   ],
   "source": [
    "plt.plot(nuArr,intg(nuArr,L_nu_at912,nu912,alpha_nu_blue,3e24))\n",
    "plt.loglog()"
   ]
  },
  {
   "cell_type": "code",
   "execution_count": 11,
   "id": "7174c782",
   "metadata": {},
   "outputs": [
    {
     "ename": "NameError",
     "evalue": "name 'df' is not defined",
     "output_type": "error",
     "traceback": [
      "\u001b[0;31m---------------------------------------------------------------------------\u001b[0m",
      "\u001b[0;31mNameError\u001b[0m                                 Traceback (most recent call last)",
      "Input \u001b[0;32mIn [11]\u001b[0m, in \u001b[0;36m<cell line: 1>\u001b[0;34m()\u001b[0m\n\u001b[0;32m----> 1\u001b[0m \u001b[38;5;28mfloat\u001b[39m(\u001b[43mdf\u001b[49m[df[\u001b[38;5;124m\"\u001b[39m\u001b[38;5;124mobj\u001b[39m\u001b[38;5;124m\"\u001b[39m]\u001b[38;5;241m==\u001b[39m\u001b[38;5;124m\"\u001b[39m\u001b[38;5;124mJ062-01\u001b[39m\u001b[38;5;124m\"\u001b[39m][\u001b[38;5;124m\"\u001b[39m\u001b[38;5;124mM1450\u001b[39m\u001b[38;5;124m\"\u001b[39m])\n",
      "\u001b[0;31mNameError\u001b[0m: name 'df' is not defined"
     ]
    }
   ],
   "source": [
    "float(df[df[\"obj\"]==\"J062-01\"][\"M1450\"])"
   ]
  },
  {
   "cell_type": "code",
   "execution_count": null,
   "id": "9eb9d2fe",
   "metadata": {},
   "outputs": [],
   "source": [
    "from pyfrit.convert import M1450_to_Ndot_tot as pyfrit_M1450_to_Ndot_tot"
   ]
  },
  {
   "cell_type": "code",
   "execution_count": 12,
   "id": "ef14f91a",
   "metadata": {},
   "outputs": [
    {
     "ename": "NameError",
     "evalue": "name 'df' is not defined",
     "output_type": "error",
     "traceback": [
      "\u001b[0;31m---------------------------------------------------------------------------\u001b[0m",
      "\u001b[0;31mNameError\u001b[0m                                 Traceback (most recent call last)",
      "Input \u001b[0;32mIn [12]\u001b[0m, in \u001b[0;36m<cell line: 1>\u001b[0;34m()\u001b[0m\n\u001b[0;32m----> 1\u001b[0m \u001b[38;5;28;01mfor\u001b[39;00m index, row \u001b[38;5;129;01min\u001b[39;00m \u001b[43mdf\u001b[49m\u001b[38;5;241m.\u001b[39miterrows():\n\u001b[1;32m      2\u001b[0m     \u001b[38;5;28mprint\u001b[39m(index,row[\u001b[38;5;124m\"\u001b[39m\u001b[38;5;124mobj\u001b[39m\u001b[38;5;124m\"\u001b[39m],row[\u001b[38;5;124m\"\u001b[39m\u001b[38;5;124mredshift\u001b[39m\u001b[38;5;124m\"\u001b[39m],row[\u001b[38;5;124m\"\u001b[39m\u001b[38;5;124mM1450\u001b[39m\u001b[38;5;124m\"\u001b[39m],pyfrit_M1450_to_Ndot_tot(row[\u001b[38;5;124m\"\u001b[39m\u001b[38;5;124mM1450\u001b[39m\u001b[38;5;124m\"\u001b[39m],\u001b[38;5;241m1.7\u001b[39m),M1450_to_Ntot(row[\u001b[38;5;124m\"\u001b[39m\u001b[38;5;124mM1450\u001b[39m\u001b[38;5;124m\"\u001b[39m]))\n",
      "\u001b[0;31mNameError\u001b[0m: name 'df' is not defined"
     ]
    }
   ],
   "source": [
    "for index, row in df.iterrows():\n",
    "    print(index,row[\"obj\"],row[\"redshift\"],row[\"M1450\"],M1450_to_Ntot(row[\"M1450\"]))"
   ]
  },
  {
   "cell_type": "code",
   "execution_count": 10,
   "id": "fc3e09ef",
   "metadata": {},
   "outputs": [
    {
     "name": "stdout",
     "output_type": "stream",
     "text": [
      "1 J062-01 -28.12 3.1015842881072517e+57 4.3285525819000944e+57\n",
      "2 J0020-3653 -26.94 1.0461250171143296e+57 1.4599658507374822e+57\n",
      "3 J0142-3327 -27.81 2.3312217586685653e+57 3.25343921851772e+57\n",
      "4 P036+03 -27.36 1.5402229418050672e+57 2.1495259751656123e+57\n",
      "5 J0244-5008 -26.72 8.542472472127657e+56 1.1921823764977756e+57\n",
      "6 J0252-0503 -26.63 7.862915128683132e+56 1.0973437578990524e+57\n",
      "7 J0319-1008 -25.36 2.4410888553392764e+56 3.4067690850583093e+56\n",
      "8 J0411-0907 -26.61 7.719400753725396e+56 1.0773149771032165e+57\n",
      "9 J1007+2115 -26.73 8.621514996725457e+56 1.2032135042101391e+57\n",
      "10 J158-14 -27.32 1.4845115741632177e+57 2.0717755218982364e+57\n",
      "11 J1104+2134 -26.67 8.157997877174128e+56 1.138525330740793e+57\n",
      "12 J1212+0505 -26.83 9.453303211630928e+56 1.3192973726714514e+57\n",
      "13 J1217+0131 -25.76 3.5284469154320434e+56 4.924279525290999e+56\n",
      "14 J1526-2050 -27.2 1.3291793575563078e+57 1.854994804435801e+57\n",
      "15 J2002-3013 -26.9 1.00828565383391e+57 1.4071574604406413e+57\n",
      "16 J1030+0524 -26.93 1.0365340853083682e+57 1.4465808033632394e+57\n",
      "17 J1120+0641 -26.58 7.5090256524081845e+56 1.0479551531104972e+57\n",
      "18 J1148+5251 -27.56 1.8517552643140304e+57 2.584298631227918e+57\n",
      "19 J159-02 -26.74 8.701288892798577e+56 1.2143467016905229e+57\n"
     ]
    }
   ],
   "source": [
    "for index, row in df.iterrows():\n",
    "    print(index,row[\"obj\"],row[\"M1450\"],pyfrit_M1450_to_Ndot_tot(row[\"M1450\"],1.7),pyfrit_M1450_to_Ndot_tot(row[\"M1450\"],1.4))"
   ]
  },
  {
   "cell_type": "code",
   "execution_count": null,
   "id": "351aeeba",
   "metadata": {},
   "outputs": [],
   "source": []
  },
  {
   "cell_type": "code",
   "execution_count": null,
   "id": "fe630436",
   "metadata": {},
   "outputs": [],
   "source": []
  },
  {
   "cell_type": "code",
   "execution_count": 43,
   "id": "a54ca3e6",
   "metadata": {},
   "outputs": [
    {
     "name": "stdout",
     "output_type": "stream",
     "text": [
      "0.6908582433718404\n",
      "0.6264824999452471\n",
      "0.673331518219757\n",
      "0.6486776638821771\n",
      "0.6151612121059788\n",
      "0.6105889549315342\n",
      "0.5495774997816608\n",
      "0.6095775217926985\n",
      "0.6156713494842634\n",
      "0.6465303905832969\n",
      "0.6126168586134235\n",
      "0.620796048658096\n",
      "0.568105434802501\n",
      "0.6401311244799102\n",
      "0.6244086977793164\n",
      "0.6259634045864552\n",
      "0.6080635126418986\n",
      "0.6595214789562865\n",
      "0.6161819099063615\n"
     ]
    }
   ],
   "source": [
    "for row in df[\"M1450\"]:\n",
    "    print(pyfrit_M1450_to_Ndot_tot(row,1.7)/M1450_to_Ntot(row))"
   ]
  },
  {
   "cell_type": "code",
   "execution_count": 26,
   "id": "2492ed55",
   "metadata": {},
   "outputs": [
    {
     "data": {
      "text/plain": [
       "1.5467177020059402"
      ]
     },
     "execution_count": 26,
     "metadata": {},
     "output_type": "execute_result"
    }
   ],
   "source": [
    "2.296120330590953e+57/1.4845115741632177e+57"
   ]
  },
  {
   "cell_type": "code",
   "execution_count": 25,
   "id": "a8ab6e2c",
   "metadata": {},
   "outputs": [
    {
     "data": {
      "text/plain": [
       "1.62289736833067"
      ]
     },
     "execution_count": 25,
     "metadata": {},
     "output_type": "execute_result"
    }
   ],
   "source": [
    "1.41212988452077e+57/8.701288892798577e+56"
   ]
  }
 ],
 "metadata": {
  "kernelspec": {
   "display_name": "Python 3 (ipykernel)",
   "language": "python",
   "name": "python3"
  },
  "language_info": {
   "codemirror_mode": {
    "name": "ipython",
    "version": 3
   },
   "file_extension": ".py",
   "mimetype": "text/x-python",
   "name": "python",
   "nbconvert_exporter": "python",
   "pygments_lexer": "ipython3",
   "version": "3.9.7"
  }
 },
 "nbformat": 4,
 "nbformat_minor": 5
}
